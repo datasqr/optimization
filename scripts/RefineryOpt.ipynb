{
 "cells": [
  {
   "cell_type": "code",
   "execution_count": 59,
   "id": "c5a2ac9f-e6d0-495f-afbf-7e3adfd46c5d",
   "metadata": {},
   "outputs": [
    {
     "name": "stderr",
     "output_type": "stream",
     "text": [
      "\u001b[32m\u001b[1m   Resolving\u001b[22m\u001b[39m package versions...\n",
      "\u001b[32m\u001b[1m  No Changes\u001b[22m\u001b[39m to `/opt/julia/environments/v1.8/Project.toml`\n",
      "\u001b[32m\u001b[1m  No Changes\u001b[22m\u001b[39m to `/opt/julia/environments/v1.8/Manifest.toml`\n",
      "\u001b[32m\u001b[1m   Resolving\u001b[22m\u001b[39m package versions...\n",
      "\u001b[32m\u001b[1m  No Changes\u001b[22m\u001b[39m to `/opt/julia/environments/v1.8/Project.toml`\n",
      "\u001b[32m\u001b[1m  No Changes\u001b[22m\u001b[39m to `/opt/julia/environments/v1.8/Manifest.toml`\n",
      "\u001b[32m\u001b[1m   Resolving\u001b[22m\u001b[39m package versions...\n",
      "\u001b[32m\u001b[1m  No Changes\u001b[22m\u001b[39m to `/opt/julia/environments/v1.8/Project.toml`\n",
      "\u001b[32m\u001b[1m  No Changes\u001b[22m\u001b[39m to `/opt/julia/environments/v1.8/Manifest.toml`\n"
     ]
    }
   ],
   "source": [
    "import Pkg\n",
    "Pkg.add(\"JuMP\")\n",
    "Pkg.add(\"HiGHS\")\n",
    "Pkg.add(\"GLPK\")\n"
   ]
  },
  {
   "cell_type": "code",
   "execution_count": 3,
   "id": "7c0f6d17-d9dd-43ef-9a7e-f071d87d12be",
   "metadata": {},
   "outputs": [
    {
     "data": {
      "text/plain": [
       "A JuMP Model\n",
       "Feasibility problem with:\n",
       "Variables: 0\n",
       "Model mode: AUTOMATIC\n",
       "CachingOptimizer state: EMPTY_OPTIMIZER\n",
       "Solver name: HiGHS"
      ]
     },
     "execution_count": 3,
     "metadata": {},
     "output_type": "execute_result"
    }
   ],
   "source": [
    "using JuMP\n",
    "using HiGHS\n",
    "\n",
    "model = Model(HiGHS.Optimizer)"
   ]
  },
  {
   "cell_type": "code",
   "execution_count": 4,
   "id": "7c4d7c0f-d8cb-46bf-ba90-477c0fab0e0d",
   "metadata": {},
   "outputs": [
    {
     "data": {
      "text/latex": [
       "c2 : $ 7 x + 12 y \\geq 120.0 $"
      ],
      "text/plain": [
       "c2 : 7 x + 12 y ≥ 120.0"
      ]
     },
     "execution_count": 4,
     "metadata": {},
     "output_type": "execute_result"
    }
   ],
   "source": [
    "@variable(model, x >= 0)\n",
    "@variable(model, 0 <= y <= 3)\n",
    "@objective(model, Min, 12x + 20y)\n",
    "@constraint(model, c1, 6x + 8y >= 100)\n",
    "@constraint(model, c2, 7x + 12y >= 120)"
   ]
  },
  {
   "cell_type": "code",
   "execution_count": 5,
   "id": "adc697ad-fbf8-4137-be9b-80d4651ae09b",
   "metadata": {},
   "outputs": [
    {
     "data": {
      "text/latex": [
       "$$ \\begin{aligned}\n",
       "\\min\\quad & 12 x + 20 y\\\\\n",
       "\\text{Subject to} \\quad & 6 x + 8 y \\geq 100.0\\\\\n",
       " & 7 x + 12 y \\geq 120.0\\\\\n",
       " & x \\geq 0.0\\\\\n",
       " & y \\geq 0.0\\\\\n",
       " & y \\leq 3.0\\\\\n",
       "\\end{aligned} $$"
      ]
     },
     "metadata": {},
     "output_type": "display_data"
    }
   ],
   "source": [
    "print(model)"
   ]
  },
  {
   "cell_type": "code",
   "execution_count": 7,
   "id": "39842616-083d-4a66-bb3e-5b42413c94a0",
   "metadata": {},
   "outputs": [
    {
     "name": "stdout",
     "output_type": "stream",
     "text": [
      "Solving LP without presolve or with basis\n",
      "Model   status      : Optimal\n",
      "Objective value     :  2.0500000000e+02\n",
      "HiGHS run time      :          0.00\n"
     ]
    }
   ],
   "source": [
    "optimize!(model)"
   ]
  },
  {
   "cell_type": "code",
   "execution_count": null,
   "id": "e98de4be-85fa-4eda-b8cc-321818a0a0c9",
   "metadata": {},
   "outputs": [],
   "source": []
  },
  {
   "cell_type": "code",
   "execution_count": 70,
   "id": "e90342d0-0b61-48d0-8827-5211f32d0330",
   "metadata": {},
   "outputs": [
    {
     "data": {
      "text/plain": [
       "A JuMP Model\n",
       "Feasibility problem with:\n",
       "Variables: 0\n",
       "Model mode: AUTOMATIC\n",
       "CachingOptimizer state: EMPTY_OPTIMIZER\n",
       "Solver name: HiGHS"
      ]
     },
     "execution_count": 70,
     "metadata": {},
     "output_type": "execute_result"
    }
   ],
   "source": [
    "using JuMP\n",
    "using GLPK\n",
    "using HiGHS\n",
    "\n",
    "# ENV[\"GUROBI_HOME\"] = \"/home/jovyan/work/gurobi1000/linux64\"\n",
    "# import Pkg\n",
    "# Pkg.add(\"Gurobi\")\n",
    "# Pkg.build(\"Gurobi\")\n",
    "# using Gurobi\n",
    "\n",
    "modelRaf = Model(HiGHS.Optimizer)\n",
    "#modelRaf = direct_model(GLPK.Optimizer())\n",
    "#modelRaf = direct_model(Gurobi.Optimizer())"
   ]
  },
  {
   "cell_type": "code",
   "execution_count": 71,
   "id": "636e37fc-080e-43f2-93b1-a59ff3d83050",
   "metadata": {},
   "outputs": [
    {
     "data": {
      "text/plain": [
       "8000"
      ]
     },
     "execution_count": 71,
     "metadata": {},
     "output_type": "execute_result"
    }
   ],
   "source": [
    "distill_cap = 45000\n",
    "reform_cap = 10000\n",
    "crack_cap = 8000"
   ]
  },
  {
   "cell_type": "code",
   "execution_count": 72,
   "id": "de9debf2-33d1-4dfb-99e8-683a5e60ed8e",
   "metadata": {},
   "outputs": [
    {
     "data": {
      "text/latex": [
       "$$ FO $$"
      ],
      "text/plain": [
       "FO"
      ]
     },
     "execution_count": 72,
     "metadata": {},
     "output_type": "execute_result"
    }
   ],
   "source": [
    "# Decision Variables\n",
    "\n",
    "# @variable(modelRaf, CR1)\n",
    "# @variable(modelRaf, CR2)\n",
    "# @variable(modelRaf, LBO)\n",
    "\n",
    "@variable(modelRaf, CR1 <= 20000)\n",
    "@variable(modelRaf, CR2 <= 30000)\n",
    "@variable(modelRaf, 500 <= LBO <= 1000)\n",
    "\n",
    "@variable(modelRaf, LN >= 0)\n",
    "@variable(modelRaf, MN >= 0)\n",
    "@variable(modelRaf, HN >= 0)\n",
    "@variable(modelRaf, LO >= 0)\n",
    "@variable(modelRaf, HO >= 0)\n",
    "@variable(modelRaf, R >= 0)\n",
    "@variable(modelRaf, LNRG >= 0)\n",
    "@variable(modelRaf, MNRG >= 0)\n",
    "@variable(modelRaf, HNRG >= 0)\n",
    "@variable(modelRaf, RG >= 0)\n",
    "@variable(modelRaf, LOCGO >= 0)\n",
    "@variable(modelRaf, HOCGO >= 0)\n",
    "@variable(modelRaf, CG >= 0)\n",
    "@variable(modelRaf, CO >= 0)\n",
    "@variable(modelRaf, LNPMF >= 0)\n",
    "@variable(modelRaf, LNRMF >= 0)\n",
    "@variable(modelRaf, MNPMF >= 0)\n",
    "@variable(modelRaf, MNRMF >= 0)\n",
    "@variable(modelRaf, HNPMF >= 0)\n",
    "@variable(modelRaf, HNRMF >= 0)\n",
    "@variable(modelRaf, RGPMF >= 0)\n",
    "@variable(modelRaf, RGRMF >= 0)\n",
    "@variable(modelRaf, CGPMF >= 0)\n",
    "@variable(modelRaf, CGRMF >= 0)\n",
    "@variable(modelRaf, LOJF >= 0)\n",
    "@variable(modelRaf, HOJF >= 0)\n",
    "@variable(modelRaf, RJF >= 0)\n",
    "@variable(modelRaf, COJF >= 0)\n",
    "@variable(modelRaf, RLBO >= 0)\n",
    "@variable(modelRaf, PMF >= 0)\n",
    "@variable(modelRaf, RMF >= 0)\n",
    "@variable(modelRaf, JF >= 0)\n",
    "@variable(modelRaf, FO >= 0)\n"
   ]
  },
  {
   "cell_type": "code",
   "execution_count": 73,
   "id": "82fabcb5-59ec-4ff3-9f60-2fd48d3ba981",
   "metadata": {},
   "outputs": [
    {
     "data": {
      "text/latex": [
       "c29 : $ LOJF + 0.6 HOJF + 0.05 RJF + 1.5 COJF - JF \\leq 0.0 $"
      ],
      "text/plain": [
       "c29 : LOJF + 0.6 HOJF + 0.05 RJF + 1.5 COJF - JF ≤ 0.0"
      ]
     },
     "execution_count": 73,
     "metadata": {},
     "output_type": "execute_result"
    }
   ],
   "source": [
    "# Constraints\n",
    "\n",
    "# @constraint(modelRaf,c30, CR1 <= 20000)\n",
    "# @constraint(modelRaf,c31, CR2 <= 30000)\n",
    "# @constraint(modelRaf,c32, LBO >= 500)\n",
    "# @constraint(modelRaf,c33, LBO <= 1000)\n",
    "\n",
    "# Distillation Capacity: The number of barrels of crude oil to distill cannot exceed the capacity.\n",
    "@constraint(modelRaf,c1, CR1 + CR2 <= distill_cap)\n",
    "\n",
    "# Reforming Capacity: The number of barrels of naphtha to reform cannot exceed the capacity.\n",
    "@constraint(modelRaf,c2, LNRG + MNRG + HNRG <= reform_cap)\n",
    "\n",
    "# Cracking Capacity: The number of barrels of oil to crack cannot exceed the capacity.\n",
    "@constraint(modelRaf,c3, LOCGO + HOCGO <= crack_cap)\n",
    "\n",
    "# Yield: The number of barrels produced depends on the quantities of inputs used, as well as their corresponding yields.\n",
    "@constraint(modelRaf,c4, 0.10*CR1 + 0.15*CR2 == LN)\n",
    "@constraint(modelRaf,c5, 0.20*CR1 + 0.25*CR2 == MN)\n",
    "@constraint(modelRaf,c6, 0.20*CR1 + 0.18*CR2 == HN)\n",
    "@constraint(modelRaf,c7, 0.12*CR1 + 0.08*CR2 == LO)\n",
    "@constraint(modelRaf,c8, 0.20*CR1 + 0.19*CR2 == HO)\n",
    "@constraint(modelRaf,c9, 0.13*CR1 + 0.12*CR2 == R)\n",
    "@constraint(modelRaf,c10, 0.60*LNRG + 0.52*MNRG + 0.45*HNRG == RG)\n",
    "@constraint(modelRaf,c11, 0.68*LOCGO + 0.75*HOCGO == CO)\n",
    "@constraint(modelRaf,c12, 0.28*LOCGO + 0.20*HOCGO == CG)\n",
    "@constraint(modelRaf,c13, 0.50*RLBO == LBO)\n",
    "@constraint(modelRaf,c14, LNPMF + MNPMF + HNPMF + RGPMF + CGPMF == PMF)\n",
    "@constraint(modelRaf,c15, LNRMF + MNRMF + HNRMF + RGRMF + CGRMF == RMF)\n",
    "@constraint(modelRaf,c16, LOJF + HOJF + COJF + RJF == JF)\n",
    "\n",
    "# Mass Conservation: The number of barrels used must be equal to the number of barrels available.\n",
    "@constraint(modelRaf,c17, LNRG + LNPMF + LNRMF == LN)\n",
    "@constraint(modelRaf,c18, MNRG + MNPMF + MNRMF == MN)\n",
    "@constraint(modelRaf,c19, HNRG + HNPMF + HNRMF == HN)\n",
    "@constraint(modelRaf,c20, LOCGO + LOJF + 0.55*FO == LO)\n",
    "@constraint(modelRaf,c21, HOCGO + HOJF + 0.17*FO == HO)\n",
    "@constraint(modelRaf,c22, COJF + 0.22*FO == CO)\n",
    "@constraint(modelRaf,c23, RLBO + RJF + 0.0555*FO == R)\n",
    "@constraint(modelRaf,c24, CGPMF + CGRMF == CG)\n",
    "@constraint(modelRaf,c25, RGPMF + RGRMF == RG)\n",
    "\n",
    "# Premium-to-Regular Proportion: The production ratio between premium and regular gasoline must satisfy the minimum requirement.\n",
    "@constraint(modelRaf,c26, 0.40*RMF <= PMF)\n",
    "\n",
    "# Octane Tolerance: The octane rating of each type of gasoline cannot drop below the lower tolerance.\n",
    "@constraint(modelRaf,c27, 90*LNPMF + 80*MNPMF + 70*HNPMF + 115*RGPMF + 105*CGPMF >= 94*PMF)\n",
    "@constraint(modelRaf,c28, 90*LNRMF + 80*MNRMF + 70*HNRMF + 115*RGRMF + 105*CGRMF >= 84*PMF)\n",
    "\n",
    "# Vapor-Pressure Tolerance: The vapor pressure of jet fuel cannot drop below the lower tolerance.\n",
    "@constraint(modelRaf,c29, 1.0*LOJF + 0.6*HOJF + 1.5*COJF + 0.05*RJF <= 1.0*JF)\n"
   ]
  },
  {
   "cell_type": "code",
   "execution_count": 74,
   "id": "8fd4598e-67ba-4258-baed-034b5994e016",
   "metadata": {},
   "outputs": [
    {
     "data": {
      "text/latex": [
       "$$ 7 PMF + 6 RMF + 4 JF + 3.5 FO + 1.5 LBO $$"
      ],
      "text/plain": [
       "7 PMF + 6 RMF + 4 JF + 3.5 FO + 1.5 LBO"
      ]
     },
     "execution_count": 74,
     "metadata": {},
     "output_type": "execute_result"
    }
   ],
   "source": [
    "# Objective Function\n",
    "@objective(modelRaf, Max, 7*PMF + 6*RMF + 4*JF + 3.5*FO + 1.5*LBO)\n"
   ]
  },
  {
   "cell_type": "code",
   "execution_count": 75,
   "id": "991767e1-a53b-47d0-b78d-54105b5faf64",
   "metadata": {},
   "outputs": [
    {
     "data": {
      "text/latex": [
       "$$ \\begin{aligned}\n",
       "\\max\\quad & 7 PMF + 6 RMF + 4 JF + 3.5 FO + 1.5 LBO\\\\\n",
       "\\text{Subject to} \\quad & 0.1 CR1 + 0.15 CR2 - LN = 0.0\\\\\n",
       " & 0.2 CR1 + 0.25 CR2 - MN = 0.0\\\\\n",
       " & 0.2 CR1 + 0.18 CR2 - HN = 0.0\\\\\n",
       " & 0.12 CR1 + 0.08 CR2 - LO = 0.0\\\\\n",
       " & 0.2 CR1 + 0.19 CR2 - HO = 0.0\\\\\n",
       " & 0.13 CR1 + 0.12 CR2 - R = 0.0\\\\\n",
       " & 0.6 LNRG + 0.52 MNRG + 0.45 HNRG - RG = 0.0\\\\\n",
       " & 0.68 LOCGO + 0.75 HOCGO - CO = 0.0\\\\\n",
       " & 0.28 LOCGO + 0.2 HOCGO - CG = 0.0\\\\\n",
       " & -LBO + 0.5 RLBO = 0.0\\\\\n",
       " & LNPMF + MNPMF + HNPMF + RGPMF + CGPMF - PMF = 0.0\\\\\n",
       " & LNRMF + MNRMF + HNRMF + RGRMF + CGRMF - RMF = 0.0\\\\\n",
       " & LOJF + HOJF + RJF + COJF - JF = 0.0\\\\\n",
       " & -LN + LNRG + LNPMF + LNRMF = 0.0\\\\\n",
       " & -MN + MNRG + MNPMF + MNRMF = 0.0\\\\\n",
       " & -HN + HNRG + HNPMF + HNRMF = 0.0\\\\\n",
       " & -LO + LOCGO + LOJF + 0.55 FO = 0.0\\\\\n",
       " & -HO + HOCGO + HOJF + 0.17 FO = 0.0\\\\\n",
       " & -CO + COJF + 0.22 FO = 0.0\\\\\n",
       " & -R + RJF + RLBO + 0.0555 FO = 0.0\\\\\n",
       " & -CG + CGPMF + CGRMF = 0.0\\\\\n",
       " & -RG + RGPMF + RGRMF = 0.0\\\\\n",
       " & 90 LNPMF + 80 MNPMF + 70 HNPMF + 115 RGPMF + 105 CGPMF - 94 PMF \\geq 0.0\\\\\n",
       " & 90 LNRMF + 80 MNRMF + 70 HNRMF + 115 RGRMF + 105 CGRMF - 84 PMF \\geq 0.0\\\\\n",
       " & CR1 + CR2 \\leq 45000.0\\\\\n",
       " & LNRG + MNRG + HNRG \\leq 10000.0\\\\\n",
       " & LOCGO + HOCGO \\leq 8000.0\\\\\n",
       " & -PMF + 0.4 RMF \\leq 0.0\\\\\n",
       " & LOJF + 0.6 HOJF + 0.05 RJF + 1.5 COJF - JF \\leq 0.0\\\\\n",
       " & LBO \\geq 500.0\\\\\n",
       " & LN \\geq 0.0\\\\\n",
       " & MN \\geq 0.0\\\\\n",
       " & HN \\geq 0.0\\\\\n",
       " & LO \\geq 0.0\\\\\n",
       " & HO \\geq 0.0\\\\\n",
       " & R \\geq 0.0\\\\\n",
       " & LNRG \\geq 0.0\\\\\n",
       " & MNRG \\geq 0.0\\\\\n",
       " & HNRG \\geq 0.0\\\\\n",
       " & RG \\geq 0.0\\\\\n",
       " & LOCGO \\geq 0.0\\\\\n",
       " & HOCGO \\geq 0.0\\\\\n",
       " & CG \\geq 0.0\\\\\n",
       " & CO \\geq 0.0\\\\\n",
       " & LNPMF \\geq 0.0\\\\\n",
       " & LNRMF \\geq 0.0\\\\\n",
       " & MNPMF \\geq 0.0\\\\\n",
       " & MNRMF \\geq 0.0\\\\\n",
       " & HNPMF \\geq 0.0\\\\\n",
       " & HNRMF \\geq 0.0\\\\\n",
       " & RGPMF \\geq 0.0\\\\\n",
       " & RGRMF \\geq 0.0\\\\\n",
       " & CGPMF \\geq 0.0\\\\\n",
       " & CGRMF \\geq 0.0\\\\\n",
       " & LOJF \\geq 0.0\\\\\n",
       " & HOJF \\geq 0.0\\\\\n",
       " & RJF \\geq 0.0\\\\\n",
       " & COJF \\geq 0.0\\\\\n",
       " & RLBO \\geq 0.0\\\\\n",
       " & PMF \\geq 0.0\\\\\n",
       " & RMF \\geq 0.0\\\\\n",
       " & JF \\geq 0.0\\\\\n",
       " & FO \\geq 0.0\\\\\n",
       " & CR1 \\leq 20000.0\\\\\n",
       " & CR2 \\leq 30000.0\\\\\n",
       " & LBO \\leq 1000.0\\\\\n",
       "\\end{aligned} $$"
      ]
     },
     "metadata": {},
     "output_type": "display_data"
    }
   ],
   "source": [
    "print(modelRaf)"
   ]
  },
  {
   "cell_type": "code",
   "execution_count": 76,
   "id": "bda15846-5434-47f9-8ca8-a98d699cff2b",
   "metadata": {},
   "outputs": [
    {
     "name": "stdout",
     "output_type": "stream",
     "text": [
      "Running HiGHS 1.4.0 [date: 1970-01-01, git hash: bcf6c0b22]\n",
      "Copyright (c) 2022 ERGO-Code under MIT licence terms\n",
      "Presolving model\n",
      "28 rows, 35 cols, 104 nonzeros\n",
      "16 rows, 23 cols, 78 nonzeros\n",
      "16 rows, 22 cols, 77 nonzeros\n",
      "Presolve : Reductions: rows 16(-13); columns 22(-14); elements 77(-29)\n",
      "Solving the presolved LP\n",
      "Using EKK dual simplex solver - serial\n",
      "  Iteration        Objective     Infeasibilities num(sum)\n",
      "          0    -3.2499764545e+01 Ph1: 12(21.454); Du: 15(32.4998) 0s\n",
      "         25    -2.2986990361e+05 Pr: 0(0) 0s\n",
      "Solving the original LP from the solution after postsolve\n",
      "Model   status      : Optimal\n",
      "Simplex   iterations: 25\n",
      "Objective value     :  2.2986990361e+05\n",
      "HiGHS run time      :          0.01\n"
     ]
    }
   ],
   "source": [
    "optimize!(modelRaf)\n"
   ]
  },
  {
   "cell_type": "code",
   "execution_count": 77,
   "id": "92e66fe3-e22c-4244-8ec0-80eb080e065b",
   "metadata": {},
   "outputs": [
    {
     "data": {
      "text/plain": [
       "229869.9036144578"
      ]
     },
     "execution_count": 77,
     "metadata": {},
     "output_type": "execute_result"
    }
   ],
   "source": [
    "if termination_status(modelRaf) == MOI.OPTIMAL\n",
    "    optimal_solution = value(x)\n",
    "    optimal_objective = objective_value(modelRaf)\n",
    "elseif termination_status(modelRaf) == MOI.TIME_LIMIT && has_values(modelRaf)\n",
    "    suboptimal_solution = value(x)\n",
    "    suboptimal_objective = objective_value(modelRaf)\n",
    "else\n",
    "    error(\"The model was not solved correctly.\")\n",
    "end"
   ]
  },
  {
   "cell_type": "code",
   "execution_count": 78,
   "id": "f843db73-4e78-472b-8aa5-d79ed1f5a7a1",
   "metadata": {},
   "outputs": [
    {
     "data": {
      "text/plain": [
       "OPTIMAL::TerminationStatusCode = 1"
      ]
     },
     "execution_count": 78,
     "metadata": {},
     "output_type": "execute_result"
    }
   ],
   "source": [
    "termination_status(modelRaf)"
   ]
  },
  {
   "cell_type": "code",
   "execution_count": 79,
   "id": "7094d69b-ed23-46cd-9c7b-9d68d14c2375",
   "metadata": {},
   "outputs": [
    {
     "data": {
      "text/plain": [
       "FEASIBLE_POINT::ResultStatusCode = 1"
      ]
     },
     "execution_count": 79,
     "metadata": {},
     "output_type": "execute_result"
    }
   ],
   "source": [
    "primal_status(modelRaf)"
   ]
  },
  {
   "cell_type": "code",
   "execution_count": 80,
   "id": "f59e24c0-692c-441d-aa64-c14fa9bf34eb",
   "metadata": {},
   "outputs": [
    {
     "data": {
      "text/plain": [
       "FEASIBLE_POINT::ResultStatusCode = 1"
      ]
     },
     "execution_count": 80,
     "metadata": {},
     "output_type": "execute_result"
    }
   ],
   "source": [
    "dual_status(modelRaf)"
   ]
  },
  {
   "cell_type": "code",
   "execution_count": 81,
   "id": "f9f2de69-99de-4570-a28a-c6f1f830b594",
   "metadata": {},
   "outputs": [
    {
     "data": {
      "text/plain": [
       "229869.9036144578"
      ]
     },
     "execution_count": 81,
     "metadata": {},
     "output_type": "execute_result"
    }
   ],
   "source": [
    "objective_value(modelRaf)"
   ]
  },
  {
   "cell_type": "code",
   "execution_count": null,
   "id": "3ee06244-dc64-47b3-96d6-8d440ed57e1a",
   "metadata": {},
   "outputs": [],
   "source": []
  }
 ],
 "metadata": {
  "kernelspec": {
   "display_name": "Julia 1.8.3",
   "language": "julia",
   "name": "julia-1.8"
  },
  "language_info": {
   "file_extension": ".jl",
   "mimetype": "application/julia",
   "name": "julia",
   "version": "1.8.3"
  }
 },
 "nbformat": 4,
 "nbformat_minor": 5
}
