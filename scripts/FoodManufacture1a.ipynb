{
 "cells": [
  {
   "cell_type": "code",
   "execution_count": 3,
   "id": "b6340d3d-f41c-4b01-9edf-805a6ba091e5",
   "metadata": {},
   "outputs": [
    {
     "name": "stderr",
     "output_type": "stream",
     "text": [
      "\u001b[32m\u001b[1m   Resolving\u001b[22m\u001b[39m package versions...\n",
      "\u001b[32m\u001b[1m  No Changes\u001b[22m\u001b[39m to `/opt/julia/environments/v1.8/Project.toml`\n",
      "\u001b[32m\u001b[1m  No Changes\u001b[22m\u001b[39m to `/opt/julia/environments/v1.8/Manifest.toml`\n",
      "\u001b[32m\u001b[1m   Resolving\u001b[22m\u001b[39m package versions...\n",
      "\u001b[32m\u001b[1m  No Changes\u001b[22m\u001b[39m to `/opt/julia/environments/v1.8/Project.toml`\n",
      "\u001b[32m\u001b[1m  No Changes\u001b[22m\u001b[39m to `/opt/julia/environments/v1.8/Manifest.toml`\n",
      "\u001b[32m\u001b[1m   Resolving\u001b[22m\u001b[39m package versions...\n",
      "\u001b[32m\u001b[1m  No Changes\u001b[22m\u001b[39m to `/opt/julia/environments/v1.8/Project.toml`\n",
      "\u001b[32m\u001b[1m  No Changes\u001b[22m\u001b[39m to `/opt/julia/environments/v1.8/Manifest.toml`\n"
     ]
    }
   ],
   "source": [
    "import Pkg\n",
    "Pkg.add(\"JuMP\")\n",
    "Pkg.add(\"HiGHS\")\n",
    "Pkg.add(\"GLPK\")"
   ]
  },
  {
   "cell_type": "markdown",
   "id": "92671a79-c170-49f0-8d00-4779f0c35e33",
   "metadata": {},
   "source": [
    "## Introducion\n",
    "\n",
    "Blending problem solved using linear programming for a single-period (one month)\n"
   ]
  },
  {
   "cell_type": "code",
   "execution_count": 24,
   "id": "c8bd42c3-17ee-4003-a583-0748c5336f87",
   "metadata": {},
   "outputs": [
    {
     "data": {
      "text/plain": [
       "A JuMP Model\n",
       "Feasibility problem with:\n",
       "Variables: 0\n",
       "Model mode: AUTOMATIC\n",
       "CachingOptimizer state: EMPTY_OPTIMIZER\n",
       "Solver name: HiGHS"
      ]
     },
     "execution_count": 24,
     "metadata": {},
     "output_type": "execute_result"
    }
   ],
   "source": [
    "using JuMP\n",
    "using HiGHS\n",
    "using GLPK\n",
    "\n",
    "model = Model(HiGHS.Optimizer)"
   ]
  },
  {
   "cell_type": "markdown",
   "id": "16cf52ef-218f-44db-96e9-12acf315c545",
   "metadata": {},
   "source": [
    "## Variables\n",
    "Variables ***VEG1, VEG2, OIL1, OIL2 and OIL3*** \n",
    "\n",
    "Varible ***PROD*** represents the quantity of production that should be made"
   ]
  },
  {
   "cell_type": "code",
   "execution_count": 25,
   "id": "38d6a380-cdde-4be9-8614-a1744169fc79",
   "metadata": {},
   "outputs": [
    {
     "data": {
      "text/latex": [
       "$$ PROD $$"
      ],
      "text/plain": [
       "PROD"
      ]
     },
     "execution_count": 25,
     "metadata": {},
     "output_type": "execute_result"
    }
   ],
   "source": [
    "@variable(model, VEG1 >= 0)\n",
    "@variable(model, VEG2 >= 0)\n",
    "@variable(model, OIL1 >= 0)\n",
    "@variable(model, OIL2 >= 0)\n",
    "@variable(model, OIL3 >= 0)\n",
    "@variable(model, PROD >= 0)\n"
   ]
  },
  {
   "cell_type": "markdown",
   "id": "8c5590e8-de39-4865-8138-df83b6ace1aa",
   "metadata": {},
   "source": [
    "## Objective\n",
    "The objective is to maximize profit, which represents the income derived from selling PROD minus the cost of the raw oils\n"
   ]
  },
  {
   "cell_type": "code",
   "execution_count": 26,
   "id": "fff92d7c-d14c-4010-a2d7-3aafef92ee43",
   "metadata": {},
   "outputs": [
    {
     "data": {
      "text/latex": [
       "$$ -110 VEG1 - 120 VEG2 - 130 OIL1 - 110 OIL2 - 115 OIL3 + 150 PROD $$"
      ],
      "text/plain": [
       "-110 VEG1 - 120 VEG2 - 130 OIL1 - 110 OIL2 - 115 OIL3 + 150 PROD"
      ]
     },
     "execution_count": 26,
     "metadata": {},
     "output_type": "execute_result"
    }
   ],
   "source": [
    "@objective(model, Max, −110VEG1 − 120VEG2 − 130OIL1 − 110OIL2 − 115OIL3 + 150PROD)"
   ]
  },
  {
   "cell_type": "markdown",
   "id": "373af054-f5d7-4d9f-91e4-27c29480c29e",
   "metadata": {},
   "source": [
    "## Constraints"
   ]
  },
  {
   "cell_type": "markdown",
   "id": "3f672015-7a53-499e-9988-60be68705ec6",
   "metadata": {},
   "source": [
    "First two consraints represent limitation of the production for vegetable and non-vegetable refining oils"
   ]
  },
  {
   "cell_type": "code",
   "execution_count": 27,
   "id": "ee129593-5483-43e2-8ba0-19bbd9d82d1e",
   "metadata": {},
   "outputs": [
    {
     "data": {
      "text/latex": [
       "$$ OIL1 + OIL2 + OIL3 \\leq 250.0 $$"
      ],
      "text/plain": [
       "OIL1 + OIL2 + OIL3 ≤ 250.0"
      ]
     },
     "execution_count": 27,
     "metadata": {},
     "output_type": "execute_result"
    }
   ],
   "source": [
    "@constraint(model, VEG1+ VEG2 <= 200)\n",
    "@constraint(model, OIL1 + OIL2 + OIL3 <= 250)"
   ]
  },
  {
   "cell_type": "markdown",
   "id": "de5e4db1-6493-42b1-9f4b-d972ce490487",
   "metadata": {},
   "source": [
    "Next constraints represent upper (6) and lower (3) limit of the PROD hardness"
   ]
  },
  {
   "cell_type": "code",
   "execution_count": 28,
   "id": "6b7ed751-9ad5-4635-8a09-134fcdf93f32",
   "metadata": {},
   "outputs": [
    {
     "data": {
      "text/latex": [
       "$$ 8.8 VEG1 + 6.1 VEG2 + 2 OIL1 + 4.2 OIL2 + 5 OIL3 - 3 PROD \\geq 0.0 $$"
      ],
      "text/plain": [
       "8.8 VEG1 + 6.1 VEG2 + 2 OIL1 + 4.2 OIL2 + 5 OIL3 - 3 PROD ≥ 0.0"
      ]
     },
     "execution_count": 28,
     "metadata": {},
     "output_type": "execute_result"
    }
   ],
   "source": [
    "@constraint(model, 8.8VEG1 + 6.1VEG2 + 2OIL1 + 4.2OIL2 + 5OIL3 − 6PROD <=0)\n",
    "@constraint(model, 8.8VEG1 + 6.1VEG2 + 2OIL1 + 4.2OIL2 + 5OIL3 − 3PROD >=0)"
   ]
  },
  {
   "cell_type": "markdown",
   "id": "42f52270-51ed-4038-9948-9b8abc8ae161",
   "metadata": {},
   "source": [
    "The last constraint represent balance"
   ]
  },
  {
   "cell_type": "code",
   "execution_count": 29,
   "id": "475c3153-8606-40f3-a12d-32038e647e6d",
   "metadata": {},
   "outputs": [
    {
     "data": {
      "text/latex": [
       "$$ VEG1 + VEG2 + OIL1 + OIL2 + OIL3 - PROD = 0.0 $$"
      ],
      "text/plain": [
       "VEG1 + VEG2 + OIL1 + OIL2 + OIL3 - PROD = 0.0"
      ]
     },
     "execution_count": 29,
     "metadata": {},
     "output_type": "execute_result"
    }
   ],
   "source": [
    "@constraint(model, VEG1 + VEG2 + OIL1 + OIL2 + OIL3 − PROD == 0)"
   ]
  },
  {
   "cell_type": "code",
   "execution_count": 30,
   "id": "5392d464-d02e-4fac-ac6f-bfba8453eb0a",
   "metadata": {},
   "outputs": [
    {
     "data": {
      "text/latex": [
       "$$ \\begin{aligned}\n",
       "\\max\\quad & -110 VEG1 - 120 VEG2 - 130 OIL1 - 110 OIL2 - 115 OIL3 + 150 PROD\\\\\n",
       "\\text{Subject to} \\quad & VEG1 + VEG2 + OIL1 + OIL2 + OIL3 - PROD = 0.0\\\\\n",
       " & 8.8 VEG1 + 6.1 VEG2 + 2 OIL1 + 4.2 OIL2 + 5 OIL3 - 3 PROD \\geq 0.0\\\\\n",
       " & VEG1 + VEG2 \\leq 200.0\\\\\n",
       " & OIL1 + OIL2 + OIL3 \\leq 250.0\\\\\n",
       " & 8.8 VEG1 + 6.1 VEG2 + 2 OIL1 + 4.2 OIL2 + 5 OIL3 - 6 PROD \\leq 0.0\\\\\n",
       " & VEG1 \\geq 0.0\\\\\n",
       " & VEG2 \\geq 0.0\\\\\n",
       " & OIL1 \\geq 0.0\\\\\n",
       " & OIL2 \\geq 0.0\\\\\n",
       " & OIL3 \\geq 0.0\\\\\n",
       " & PROD \\geq 0.0\\\\\n",
       "\\end{aligned} $$"
      ]
     },
     "metadata": {},
     "output_type": "display_data"
    }
   ],
   "source": [
    "print(model)"
   ]
  },
  {
   "cell_type": "code",
   "execution_count": 31,
   "id": "88ab7f43-2aad-4bce-a785-10be6145fa8f",
   "metadata": {},
   "outputs": [
    {
     "name": "stdout",
     "output_type": "stream",
     "text": [
      "Running HiGHS 1.4.0 [date: 1970-01-01, git hash: bcf6c0b22]\n",
      "Copyright (c) 2022 ERGO-Code under MIT licence terms\n",
      "Presolving model\n",
      "5 rows, 6 cols, 23 nonzeros\n",
      "4 rows, 5 cols, 15 nonzeros\n",
      "4 rows, 5 cols, 15 nonzeros\n",
      "Presolve : Reductions: rows 4(-1); columns 5(-1); elements 15(-8)\n",
      "Solving the presolved LP\n",
      "Using EKK dual simplex solver - serial\n",
      "  Iteration        Objective     Infeasibilities num(sum)\n",
      "          0    -1.2749287565e+02 Ph1: 4(12.2); Du: 5(127.493) 0s\n",
      "          7    -1.7592592593e+04 Pr: 0(0) 0s\n",
      "Solving the original LP from the solution after postsolve\n",
      "Model   status      : Optimal\n",
      "Simplex   iterations: 7\n",
      "Objective value     :  1.7592592593e+04\n",
      "HiGHS run time      :          0.00\n"
     ]
    }
   ],
   "source": [
    "optimize!(model)"
   ]
  },
  {
   "cell_type": "code",
   "execution_count": 32,
   "id": "b65d3e59-f87e-4abf-a438-546b8cc4499b",
   "metadata": {},
   "outputs": [
    {
     "data": {
      "text/plain": [
       "17592.592592592588"
      ]
     },
     "execution_count": 32,
     "metadata": {},
     "output_type": "execute_result"
    }
   ],
   "source": [
    "objective_value(model)"
   ]
  },
  {
   "cell_type": "code",
   "execution_count": 33,
   "id": "9d497226-ce3c-4588-aa85-905763abcaaf",
   "metadata": {},
   "outputs": [
    {
     "data": {
      "text/plain": [
       "17592.592592592588"
      ]
     },
     "execution_count": 33,
     "metadata": {},
     "output_type": "execute_result"
    }
   ],
   "source": [
    "if termination_status(model) == MOI.OPTIMAL\n",
    "    optimal_solution = value(y)\n",
    "    optimal_objective = objective_value(model)\n",
    "elseif termination_status(model) == MOI.TIME_LIMIT && has_values(modelRaf)\n",
    "    suboptimal_solution = value(x)\n",
    "    suboptimal_objective = objective_value(model)\n",
    "else\n",
    "    error(\"The model was not solved correctly.\")\n",
    "end"
   ]
  },
  {
   "cell_type": "code",
   "execution_count": null,
   "id": "8a740b5d-0bae-4965-89e3-a2d6694fffa6",
   "metadata": {},
   "outputs": [],
   "source": []
  }
 ],
 "metadata": {
  "kernelspec": {
   "display_name": "Julia 1.8.3",
   "language": "julia",
   "name": "julia-1.8"
  },
  "language_info": {
   "file_extension": ".jl",
   "mimetype": "application/julia",
   "name": "julia",
   "version": "1.8.3"
  }
 },
 "nbformat": 4,
 "nbformat_minor": 5
}
