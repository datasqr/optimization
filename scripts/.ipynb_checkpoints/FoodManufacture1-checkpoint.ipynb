{
 "cells": [
  {
   "cell_type": "code",
   "execution_count": 1,
   "id": "b6340d3d-f41c-4b01-9edf-805a6ba091e5",
   "metadata": {},
   "outputs": [
    {
     "name": "stderr",
     "output_type": "stream",
     "text": [
      "\u001b[32m\u001b[1m    Updating\u001b[22m\u001b[39m registry at `/opt/julia/registries/General.toml`\n",
      "\u001b[32m\u001b[1m   Resolving\u001b[22m\u001b[39m package versions...\n",
      "\u001b[32m\u001b[1m  No Changes\u001b[22m\u001b[39m to `/opt/julia/environments/v1.8/Project.toml`\n",
      "\u001b[32m\u001b[1m  No Changes\u001b[22m\u001b[39m to `/opt/julia/environments/v1.8/Manifest.toml`\n",
      "\u001b[32m\u001b[1m   Resolving\u001b[22m\u001b[39m package versions...\n",
      "\u001b[32m\u001b[1m  No Changes\u001b[22m\u001b[39m to `/opt/julia/environments/v1.8/Project.toml`\n",
      "\u001b[32m\u001b[1m  No Changes\u001b[22m\u001b[39m to `/opt/julia/environments/v1.8/Manifest.toml`\n",
      "\u001b[32m\u001b[1m   Resolving\u001b[22m\u001b[39m package versions...\n",
      "\u001b[32m\u001b[1m  No Changes\u001b[22m\u001b[39m to `/opt/julia/environments/v1.8/Project.toml`\n",
      "\u001b[32m\u001b[1m  No Changes\u001b[22m\u001b[39m to `/opt/julia/environments/v1.8/Manifest.toml`\n"
     ]
    }
   ],
   "source": [
    "import Pkg\n",
    "Pkg.add(\"JuMP\")\n",
    "Pkg.add(\"HiGHS\")\n",
    "Pkg.add(\"GLPK\")"
   ]
  },
  {
   "cell_type": "code",
   "execution_count": 54,
   "id": "c8bd42c3-17ee-4003-a583-0748c5336f87",
   "metadata": {},
   "outputs": [
    {
     "data": {
      "text/plain": [
       "A JuMP Model\n",
       "Feasibility problem with:\n",
       "Variables: 0\n",
       "Model mode: AUTOMATIC\n",
       "CachingOptimizer state: EMPTY_OPTIMIZER\n",
       "Solver name: GLPK"
      ]
     },
     "execution_count": 54,
     "metadata": {},
     "output_type": "execute_result"
    }
   ],
   "source": [
    "using JuMP\n",
    "using HiGHS\n",
    "using GLPK\n",
    "\n",
    "model = Model(GLPK.Optimizer)"
   ]
  },
  {
   "cell_type": "code",
   "execution_count": 55,
   "id": "38d6a380-cdde-4be9-8614-a1744169fc79",
   "metadata": {},
   "outputs": [
    {
     "data": {
      "text/latex": [
       "$$ y $$"
      ],
      "text/plain": [
       "y"
      ]
     },
     "execution_count": 55,
     "metadata": {},
     "output_type": "execute_result"
    }
   ],
   "source": [
    "@variable(model, x1 >= 0)\n",
    "@variable(model, x2 >= 0)\n",
    "@variable(model, x3 >= 0)\n",
    "@variable(model, x4 >= 0)\n",
    "@variable(model, x5 >= 0)\n",
    "@variable(model, y >= 0)\n"
   ]
  },
  {
   "cell_type": "code",
   "execution_count": 56,
   "id": "ee129593-5483-43e2-8ba0-19bbd9d82d1e",
   "metadata": {},
   "outputs": [
    {
     "data": {
      "text/latex": [
       "$$ x1 + x2 + x3 + x4 + x5 - y = 0.0 $$"
      ],
      "text/plain": [
       "x1 + x2 + x3 + x4 + x5 - y = 0.0"
      ]
     },
     "execution_count": 56,
     "metadata": {},
     "output_type": "execute_result"
    }
   ],
   "source": [
    "@constraint(model, x1+ x2 <= 200)\n",
    "@constraint(model, x3 + x4 + x5 <= 250)\n",
    "@constraint(model, x3 + x4 + x5 <= 250)\n",
    "@constraint(model, 8.8x1 + 6.1x2 + 2x3 + 4.2x4 + 5x5 − 6y <=0)\n",
    "@constraint(model, 8.8x1 + 6.1x2 + 2x3 + 4.2x4 + 5x5 − 3y >=0)\n",
    "@constraint(model, x1 + x2 + x3 + x4 + x5 − y == 0)\n"
   ]
  },
  {
   "cell_type": "code",
   "execution_count": 57,
   "id": "fff92d7c-d14c-4010-a2d7-3aafef92ee43",
   "metadata": {},
   "outputs": [
    {
     "data": {
      "text/latex": [
       "$$ -110 x1 - 120 x2 - 130 x3 - 110 x4 - 115 x5 + 150 y $$"
      ],
      "text/plain": [
       "-110 x1 - 120 x2 - 130 x3 - 110 x4 - 115 x5 + 150 y"
      ]
     },
     "execution_count": 57,
     "metadata": {},
     "output_type": "execute_result"
    }
   ],
   "source": [
    "@objective(model, Max, −110x1 − 120x2 − 130x3 − 110x4 − 115x5 + 150y)"
   ]
  },
  {
   "cell_type": "code",
   "execution_count": 58,
   "id": "5392d464-d02e-4fac-ac6f-bfba8453eb0a",
   "metadata": {},
   "outputs": [
    {
     "data": {
      "text/latex": [
       "$$ \\begin{aligned}\n",
       "\\max\\quad & -110 x1 - 120 x2 - 130 x3 - 110 x4 - 115 x5 + 150 y\\\\\n",
       "\\text{Subject to} \\quad & x1 + x2 + x3 + x4 + x5 - y = 0.0\\\\\n",
       " & 8.8 x1 + 6.1 x2 + 2 x3 + 4.2 x4 + 5 x5 - 3 y \\geq 0.0\\\\\n",
       " & x1 + x2 \\leq 200.0\\\\\n",
       " & x3 + x4 + x5 \\leq 250.0\\\\\n",
       " & x3 + x4 + x5 \\leq 250.0\\\\\n",
       " & 8.8 x1 + 6.1 x2 + 2 x3 + 4.2 x4 + 5 x5 - 6 y \\leq 0.0\\\\\n",
       " & x1 \\geq 0.0\\\\\n",
       " & x2 \\geq 0.0\\\\\n",
       " & x3 \\geq 0.0\\\\\n",
       " & x4 \\geq 0.0\\\\\n",
       " & x5 \\geq 0.0\\\\\n",
       " & y \\geq 0.0\\\\\n",
       "\\end{aligned} $$"
      ]
     },
     "metadata": {},
     "output_type": "display_data"
    }
   ],
   "source": [
    "print(model)"
   ]
  },
  {
   "cell_type": "code",
   "execution_count": 59,
   "id": "88ab7f43-2aad-4bce-a785-10be6145fa8f",
   "metadata": {},
   "outputs": [],
   "source": [
    "optimize!(model)"
   ]
  },
  {
   "cell_type": "code",
   "execution_count": 60,
   "id": "b65d3e59-f87e-4abf-a438-546b8cc4499b",
   "metadata": {},
   "outputs": [
    {
     "data": {
      "text/plain": [
       "17592.5925925926"
      ]
     },
     "execution_count": 60,
     "metadata": {},
     "output_type": "execute_result"
    }
   ],
   "source": [
    "objective_value(model)"
   ]
  },
  {
   "cell_type": "code",
   "execution_count": 61,
   "id": "9d497226-ce3c-4588-aa85-905763abcaaf",
   "metadata": {},
   "outputs": [
    {
     "data": {
      "text/plain": [
       "17592.5925925926"
      ]
     },
     "execution_count": 61,
     "metadata": {},
     "output_type": "execute_result"
    }
   ],
   "source": [
    "if termination_status(model) == MOI.OPTIMAL\n",
    "    optimal_solution = value(y)\n",
    "    optimal_objective = objective_value(model)\n",
    "elseif termination_status(model) == MOI.TIME_LIMIT && has_values(modelRaf)\n",
    "    suboptimal_solution = value(x)\n",
    "    suboptimal_objective = objective_value(model)\n",
    "else\n",
    "    error(\"The model was not solved correctly.\")\n",
    "end"
   ]
  },
  {
   "cell_type": "code",
   "execution_count": 62,
   "id": "e4222f19-50fc-4540-b5bb-9db4bed9316e",
   "metadata": {},
   "outputs": [
    {
     "ename": "LoadError",
     "evalue": "MethodError: no method matching getindex(::Vector{VariableRef}; i=1:5)\n\u001b[0mClosest candidates are:\n\u001b[0m  getindex(::Array, \u001b[91m::Int64\u001b[39m) at array.jl:924\u001b[91m got unsupported keyword argument \"i\"\u001b[39m\n\u001b[0m  getindex(::Array, \u001b[91m::Int64\u001b[39m, \u001b[91m::Int64\u001b[39m, \u001b[91m::Int64...\u001b[39m) at array.jl:925\u001b[91m got unsupported keyword argument \"i\"\u001b[39m\n\u001b[0m  getindex(::Array, \u001b[91m::AbstractUnitRange{Bool}\u001b[39m) at array.jl:940\u001b[91m got unsupported keyword argument \"i\"\u001b[39m\n\u001b[0m  ...",
     "output_type": "error",
     "traceback": [
      "MethodError: no method matching getindex(::Vector{VariableRef}; i=1:5)\n\u001b[0mClosest candidates are:\n\u001b[0m  getindex(::Array, \u001b[91m::Int64\u001b[39m) at array.jl:924\u001b[91m got unsupported keyword argument \"i\"\u001b[39m\n\u001b[0m  getindex(::Array, \u001b[91m::Int64\u001b[39m, \u001b[91m::Int64\u001b[39m, \u001b[91m::Int64...\u001b[39m) at array.jl:925\u001b[91m got unsupported keyword argument \"i\"\u001b[39m\n\u001b[0m  getindex(::Array, \u001b[91m::AbstractUnitRange{Bool}\u001b[39m) at array.jl:940\u001b[91m got unsupported keyword argument \"i\"\u001b[39m\n\u001b[0m  ...",
      "",
      "Stacktrace:",
      " [1] top-level scope",
      "   @ In[62]:1"
     ]
    }
   ],
   "source": [
    "x[i = 1:n]"
   ]
  },
  {
   "cell_type": "code",
   "execution_count": null,
   "id": "8a740b5d-0bae-4965-89e3-a2d6694fffa6",
   "metadata": {},
   "outputs": [],
   "source": []
  }
 ],
 "metadata": {
  "kernelspec": {
   "display_name": "Julia 1.8.3",
   "language": "julia",
   "name": "julia-1.8"
  },
  "language_info": {
   "file_extension": ".jl",
   "mimetype": "application/julia",
   "name": "julia",
   "version": "1.8.3"
  }
 },
 "nbformat": 4,
 "nbformat_minor": 5
}
