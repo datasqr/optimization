{
 "cells": [
  {
   "cell_type": "code",
   "execution_count": 7,
   "id": "a8ee1cbc-d9ec-495a-8192-db063905c900",
   "metadata": {},
   "outputs": [
    {
     "name": "stderr",
     "output_type": "stream",
     "text": [
      "\u001b[32m\u001b[1m    Updating\u001b[22m\u001b[39m registry at `/opt/julia/registries/General.toml`\n",
      "\u001b[32m\u001b[1m   Resolving\u001b[22m\u001b[39m package versions...\n",
      "\u001b[32m\u001b[1m  No Changes\u001b[22m\u001b[39m to `/opt/julia/environments/v1.8/Project.toml`\n",
      "\u001b[32m\u001b[1m  No Changes\u001b[22m\u001b[39m to `/opt/julia/environments/v1.8/Manifest.toml`\n",
      "\u001b[32m\u001b[1m   Resolving\u001b[22m\u001b[39m package versions...\n",
      "\u001b[32m\u001b[1m  No Changes\u001b[22m\u001b[39m to `/opt/julia/environments/v1.8/Project.toml`\n",
      "\u001b[32m\u001b[1m  No Changes\u001b[22m\u001b[39m to `/opt/julia/environments/v1.8/Manifest.toml`\n",
      "\u001b[32m\u001b[1m   Resolving\u001b[22m\u001b[39m package versions...\n",
      "\u001b[32m\u001b[1m  No Changes\u001b[22m\u001b[39m to `/opt/julia/environments/v1.8/Project.toml`\n",
      "\u001b[32m\u001b[1m  No Changes\u001b[22m\u001b[39m to `/opt/julia/environments/v1.8/Manifest.toml`\n"
     ]
    }
   ],
   "source": [
    "import Pkg\n",
    "Pkg.add(\"JuMP\")\n",
    "Pkg.add(\"HiGHS\")\n",
    "Pkg.add(\"GLPK\")"
   ]
  },
  {
   "cell_type": "code",
   "execution_count": 123,
   "id": "b2e848cd-6135-4a27-97e2-e9e5a4e8b4f2",
   "metadata": {},
   "outputs": [
    {
     "data": {
      "text/plain": [
       "A JuMP Model\n",
       "Feasibility problem with:\n",
       "Variables: 0\n",
       "Model mode: AUTOMATIC\n",
       "CachingOptimizer state: EMPTY_OPTIMIZER\n",
       "Solver name: HiGHS"
      ]
     },
     "execution_count": 123,
     "metadata": {},
     "output_type": "execute_result"
    }
   ],
   "source": [
    "using JuMP\n",
    "using HiGHS\n",
    "using GLPK\n",
    "\n",
    "model = Model(HiGHS.Optimizer)"
   ]
  },
  {
   "cell_type": "markdown",
   "id": "021ad792-e6dc-4857-b90c-881230760d52",
   "metadata": {},
   "source": [
    "## Variables\n",
    "Variables ***VEG1, VEG2, OIL1, OIL2 and OIL3*** are represented by columns in the matrixes\n",
    "\n",
    "Periods / months are represented by rows in the matrixes\n",
    "\n",
    "Varible ***PROD*** represents the quantity of production that should be made"
   ]
  },
  {
   "cell_type": "code",
   "execution_count": 124,
   "id": "cee915d5-4035-4db2-97e2-d9ea7f51032e",
   "metadata": {},
   "outputs": [
    {
     "data": {
      "text/plain": [
       "6×5 Matrix{VariableRef}:\n",
       " stored[1,1]  stored[1,2]  stored[1,3]  stored[1,4]  stored[1,5]\n",
       " stored[2,1]  stored[2,2]  stored[2,3]  stored[2,4]  stored[2,5]\n",
       " stored[3,1]  stored[3,2]  stored[3,3]  stored[3,4]  stored[3,5]\n",
       " stored[4,1]  stored[4,2]  stored[4,3]  stored[4,4]  stored[4,5]\n",
       " stored[5,1]  stored[5,2]  stored[5,3]  stored[5,4]  stored[5,5]\n",
       " stored[6,1]  stored[6,2]  stored[6,3]  stored[6,4]  stored[6,5]"
      ]
     },
     "execution_count": 124,
     "metadata": {},
     "output_type": "execute_result"
    }
   ],
   "source": [
    "price = 150\n",
    "init_store = 500\n",
    "target_store = 500\n",
    "veg_cap = 200\n",
    "oil_cap = 250\n",
    "\n",
    "min_hardness = 3\n",
    "max_hardness = 6\n",
    "holding_cost = 5\n",
    "\n",
    "hardnes = [8.8, 6.1, 2.0, 4.2, 5.0]\n",
    "\n",
    "@variable(model, produce[1:6] >= 0)\n",
    "@variable(model, bought[1:6,1:5] >= 0)\n",
    "@variable(model, used[1:6,1:5] >= 0)\n",
    "@variable(model, stored[1:6,1:5] >= 0)\n"
   ]
  },
  {
   "cell_type": "code",
   "execution_count": 125,
   "id": "cf433f75-2a29-49e2-9949-21d94909d64e",
   "metadata": {},
   "outputs": [
    {
     "data": {
      "text/plain": [
       "6×5 adjoint(::Matrix{Int64}) with eltype Int64:\n",
       " 110  120  130  110  115\n",
       " 130  130  110   90  115\n",
       " 110  140  130  100   95\n",
       " 120  110  120  120  125\n",
       " 100  120  150  110  105\n",
       "  90  100  140   80  135"
      ]
     },
     "execution_count": 125,
     "metadata": {},
     "output_type": "execute_result"
    }
   ],
   "source": [
    "cost = [[110,120,130,110,115] [130,130,110,90,115] [110,140,130,100,95] [120,110,120,120,125] [100,120,150,110,105] [90,100,140,80,135]]'"
   ]
  },
  {
   "cell_type": "markdown",
   "id": "d3e74b7e-ebe5-44db-8109-8756b77d154f",
   "metadata": {},
   "source": [
    "## Constraints\n",
    "\n",
    "Initial Balance:"
   ]
  },
  {
   "cell_type": "code",
   "execution_count": 126,
   "id": "3268212a-68db-45c5-add8-d78b1bde5fee",
   "metadata": {},
   "outputs": [],
   "source": [
    "for i in 1:5\n",
    "    @constraint(model, bought[1,i] - used[1,i] - stored[1,i] == init_store)\n",
    "end"
   ]
  },
  {
   "cell_type": "markdown",
   "id": "cecc0bdd-6afd-4df0-b4ab-92b51e723f6d",
   "metadata": {},
   "source": [
    "Balance"
   ]
  },
  {
   "cell_type": "code",
   "execution_count": 127,
   "id": "6fc92323-c9b5-4891-a1fb-252b96837556",
   "metadata": {},
   "outputs": [],
   "source": [
    "for i in 2:6\n",
    "    for j in 1:5\n",
    "        @constraint(model, stored[i-1,j] + bought[i,j] - used[i,j] - stored[i,j] == 0)\n",
    "    end\n",
    "end"
   ]
  },
  {
   "cell_type": "markdown",
   "id": "62ef72b7-7c7e-48e2-87b3-3914bbc5965e",
   "metadata": {},
   "source": [
    "Inventory Target"
   ]
  },
  {
   "cell_type": "code",
   "execution_count": 128,
   "id": "09bedfae-b8b1-44a1-82b3-18072f7f481a",
   "metadata": {},
   "outputs": [],
   "source": [
    "for i in 1:5\n",
    "    @constraint(model, stored[6,i] == target_store)\n",
    "end"
   ]
  },
  {
   "cell_type": "markdown",
   "id": "90676aee-ca2d-48ef-82c2-f75169d3fc36",
   "metadata": {},
   "source": [
    "Refinement Capacity"
   ]
  },
  {
   "cell_type": "code",
   "execution_count": 129,
   "id": "b668e10c-fc59-4ee4-b034-52fcff67ca30",
   "metadata": {},
   "outputs": [],
   "source": [
    "for i in 1:6\n",
    "    @constraint(model, sum(used[i,j] for j in 1:2) <= veg_cap)\n",
    "end\n",
    "\n",
    "for i in 1:6\n",
    "    @constraint(model, sum(used[i,j] for j in 3:5) <= oil_cap)\n",
    "end"
   ]
  },
  {
   "cell_type": "markdown",
   "id": "e2e60a1b-5af1-4af1-b421-ea8ffef8ec33",
   "metadata": {},
   "source": [
    "Hardness"
   ]
  },
  {
   "cell_type": "code",
   "execution_count": 130,
   "id": "b68cd203-65a4-4422-a379-782bb9dca6a5",
   "metadata": {},
   "outputs": [],
   "source": [
    "for i in 1:6\n",
    "    @constraint(model, sum(hardnes[j] * used[i,j] for j in 1:5) - max_hardness * produce[i] <= 0)\n",
    "    @constraint(model, min_hardness * produce[i] - sum(hardnes[j] * used[i,j] for j in 1:5) <= 0)\n",
    "end"
   ]
  },
  {
   "cell_type": "markdown",
   "id": "6946354c-6e66-4b15-94e3-b514ae5912c0",
   "metadata": {},
   "source": [
    "Mass Conservation"
   ]
  },
  {
   "cell_type": "code",
   "execution_count": 131,
   "id": "e790f860-a33f-4f45-a0fd-9f6fbdea996d",
   "metadata": {},
   "outputs": [],
   "source": [
    "for i in 1:6\n",
    "    @constraint(model, sum(used[i,j] for j in 1:5) - produce[i] == 0)\n",
    "end"
   ]
  },
  {
   "cell_type": "markdown",
   "id": "2a337c00-54a8-48ff-9967-ca58cebd2818",
   "metadata": {},
   "source": [
    "## Objective Function\n",
    "Max the total profit"
   ]
  },
  {
   "cell_type": "code",
   "execution_count": 132,
   "id": "4c1b4b9a-32bb-47b6-98d8-2f72b9784e02",
   "metadata": {},
   "outputs": [
    {
     "data": {
      "text/latex": [
       "$$ 150 produce_{1} + 150 produce_{2} + 150 produce_{3} + 150 produce_{4} + 150 produce_{5} + 150 produce_{6} - 110 used_{1,1} - 5 stored_{1,1} - 120 used_{1,2} - 5 stored_{1,2} - 130 used_{1,3} - 5 stored_{1,3} - 110 used_{1,4} - 5 stored_{1,4} - 115 used_{1,5} - 5 stored_{1,5} - 130 used_{2,1} - 5 stored_{2,1} - 130 used_{2,2} - 5 stored_{2,2} - 110 used_{2,3} - 5 stored_{2,3} - 90 used_{2,4} - 5 stored_{2,4} - 115 used_{2,5} - 5 stored_{2,5} - 110 used_{3,1} - 5 stored_{3,1} - 140 used_{3,2} - 5 stored_{3,2} - 130 used_{3,3} - 5 stored_{3,3} - 100 used_{3,4} - 5 stored_{3,4} - 95 used_{3,5} - 5 stored_{3,5} - 120 used_{4,1} - 5 stored_{4,1} - 110 used_{4,2} - 5 stored_{4,2} - 120 used_{4,3} - 5 stored_{4,3} - 120 used_{4,4} - 5 stored_{4,4} - 125 used_{4,5} - 5 stored_{4,5} - 100 used_{5,1} - 5 stored_{5,1} - 120 used_{5,2} - 5 stored_{5,2} - 150 used_{5,3} - 5 stored_{5,3} - 110 used_{5,4} - 5 stored_{5,4} - 105 used_{5,5} - 5 stored_{5,5} - 90 used_{6,1} - 5 stored_{6,1} - 100 used_{6,2} - 5 stored_{6,2} - 140 used_{6,3} - 5 stored_{6,3} - 80 used_{6,4} - 5 stored_{6,4} - 135 used_{6,5} - 5 stored_{6,5} $$"
      ],
      "text/plain": [
       "150 produce[1] + 150 produce[2] + 150 produce[3] + 150 produce[4] + 150 produce[5] + 150 produce[6] - 110 used[1,1] - 5 stored[1,1] - 120 used[1,2] - 5 stored[1,2] - 130 used[1,3] - 5 stored[1,3] - 110 used[1,4] - 5 stored[1,4] - 115 used[1,5] - 5 stored[1,5] - 130 used[2,1] - 5 stored[2,1] - 130 used[2,2] - 5 stored[2,2] - 110 used[2,3] - 5 stored[2,3] - 90 used[2,4] - 5 stored[2,4] - 115 used[2,5] - 5 stored[2,5] - 110 used[3,1] - 5 stored[3,1] - 140 used[3,2] - 5 stored[3,2] - 130 used[3,3] - 5 stored[3,3] - 100 used[3,4] - 5 stored[3,4] - 95 used[3,5] - 5 stored[3,5] - 120 used[4,1] - 5 stored[4,1] - 110 used[4,2] - 5 stored[4,2] - 120 used[4,3] - 5 stored[4,3] - 120 used[4,4] - 5 stored[4,4] - 125 used[4,5] - 5 stored[4,5] - 100 used[5,1] - 5 stored[5,1] - 120 used[5,2] - 5 stored[5,2] - 150 used[5,3] - 5 stored[5,3] - 110 used[5,4] - 5 stored[5,4] - 105 used[5,5] - 5 stored[5,5] - 90 used[6,1] - 5 stored[6,1] - 100 used[6,2] - 5 stored[6,2] - 140 used[6,3] - 5 stored[6,3] - 80 used[6,4] - 5 stored[6,4] - 135 used[6,5] - 5 stored[6,5]"
      ]
     },
     "execution_count": 132,
     "metadata": {},
     "output_type": "execute_result"
    }
   ],
   "source": [
    "@objective(model, Max, sum(price*produce[i] for i in 1:6) - sum(sum(cost[i,j] * used[i,j] + holding_cost * stored[i,j] for j in 1:5) for i in 1:6))"
   ]
  },
  {
   "cell_type": "code",
   "execution_count": 133,
   "id": "551c2b21-7bab-443c-b2fb-4a8d03f85522",
   "metadata": {},
   "outputs": [
    {
     "data": {
      "text/latex": [
       "$$ \\begin{aligned}\n",
       "\\max\\quad & 150 produce_{1} + 150 produce_{2} + 150 produce_{3} + 150 produce_{4} + 150 produce_{5} + 150 produce_{6} - 110 used_{1,1} - 5 stored_{1,1} - 120 used_{1,2} - 5 stored_{1,2} - 130 used_{1,3} - 5 stored_{1,3} - 110 used_{1,4} - 5 stored_{1,4} - 115 used_{1,5} - 5 stored_{1,5} - 130 used_{2,1} - 5 stored_{2,1} - 130 used_{2,2} - 5 stored_{2,2} - 110 used_{2,3} - 5 stored_{2,3} - 90 used_{2,4} - 5 stored_{2,4} - 115 used_{2,5} - 5 stored_{2,5} - 110 used_{3,1} - 5 stored_{3,1} - 140 used_{3,2} - 5 stored_{3,2} - 130 used_{3,3} - 5 stored_{3,3} - 100 used_{3,4} - 5 stored_{3,4} - 95 used_{3,5} - 5 stored_{3,5} - 120 used_{4,1} - 5 stored_{4,1} - 110 used_{4,2} - 5 stored_{4,2} - 120 used_{4,3} - 5 stored_{4,3} - 120 used_{4,4} - 5 stored_{4,4} - 125 used_{4,5} - 5 stored_{4,5} - 100 used_{5,1} - 5 stored_{5,1} - 120 used_{5,2} - 5 stored_{5,2} - 150 used_{5,3} - 5 stored_{5,3} - 110 used_{5,4} - 5 stored_{5,4} - 105 used_{5,5} - 5 stored_{5,5} - 90 used_{6,1} - 5 stored_{6,1} - 100 used_{6,2} - 5 stored_{6,2} - 140 used_{6,3} - 5 stored_{6,3} - 80 used_{6,4} - 5 stored_{6,4} - 135 used_{6,5} - 5 stored_{6,5}\\\\\n",
       "\\text{Subject to} \\quad & bought_{1,1} - used_{1,1} - stored_{1,1} = 500.0\\\\\n",
       " & bought_{1,2} - used_{1,2} - stored_{1,2} = 500.0\\\\\n",
       " & bought_{1,3} - used_{1,3} - stored_{1,3} = 500.0\\\\\n",
       " & bought_{1,4} - used_{1,4} - stored_{1,4} = 500.0\\\\\n",
       " & bought_{1,5} - used_{1,5} - stored_{1,5} = 500.0\\\\\n",
       " & bought_{2,1} - used_{2,1} + stored_{1,1} - stored_{2,1} = 0.0\\\\\n",
       " & bought_{2,2} - used_{2,2} + stored_{1,2} - stored_{2,2} = 0.0\\\\\n",
       " & bought_{2,3} - used_{2,3} + stored_{1,3} - stored_{2,3} = 0.0\\\\\n",
       " & bought_{2,4} - used_{2,4} + stored_{1,4} - stored_{2,4} = 0.0\\\\\n",
       " & bought_{2,5} - used_{2,5} + stored_{1,5} - stored_{2,5} = 0.0\\\\\n",
       " & bought_{3,1} - used_{3,1} + stored_{2,1} - stored_{3,1} = 0.0\\\\\n",
       " & bought_{3,2} - used_{3,2} + stored_{2,2} - stored_{3,2} = 0.0\\\\\n",
       " & bought_{3,3} - used_{3,3} + stored_{2,3} - stored_{3,3} = 0.0\\\\\n",
       " & bought_{3,4} - used_{3,4} + stored_{2,4} - stored_{3,4} = 0.0\\\\\n",
       " & bought_{3,5} - used_{3,5} + stored_{2,5} - stored_{3,5} = 0.0\\\\\n",
       " & bought_{4,1} - used_{4,1} + stored_{3,1} - stored_{4,1} = 0.0\\\\\n",
       " & bought_{4,2} - used_{4,2} + stored_{3,2} - stored_{4,2} = 0.0\\\\\n",
       " & bought_{4,3} - used_{4,3} + stored_{3,3} - stored_{4,3} = 0.0\\\\\n",
       " & bought_{4,4} - used_{4,4} + stored_{3,4} - stored_{4,4} = 0.0\\\\\n",
       " & bought_{4,5} - used_{4,5} + stored_{3,5} - stored_{4,5} = 0.0\\\\\n",
       " & bought_{5,1} - used_{5,1} + stored_{4,1} - stored_{5,1} = 0.0\\\\\n",
       " & bought_{5,2} - used_{5,2} + stored_{4,2} - stored_{5,2} = 0.0\\\\\n",
       " & bought_{5,3} - used_{5,3} + stored_{4,3} - stored_{5,3} = 0.0\\\\\n",
       " & bought_{5,4} - used_{5,4} + stored_{4,4} - stored_{5,4} = 0.0\\\\\n",
       " & bought_{5,5} - used_{5,5} + stored_{4,5} - stored_{5,5} = 0.0\\\\\n",
       " & bought_{6,1} - used_{6,1} + stored_{5,1} - stored_{6,1} = 0.0\\\\\n",
       " & bought_{6,2} - used_{6,2} + stored_{5,2} - stored_{6,2} = 0.0\\\\\n",
       " & bought_{6,3} - used_{6,3} + stored_{5,3} - stored_{6,3} = 0.0\\\\\n",
       " & bought_{6,4} - used_{6,4} + stored_{5,4} - stored_{6,4} = 0.0\\\\\n",
       " & bought_{6,5} - used_{6,5} + stored_{5,5} - stored_{6,5} = 0.0\\\\\n",
       " & stored_{6,1} = 500.0\\\\\n",
       " & stored_{6,2} = 500.0\\\\\n",
       " & stored_{6,3} = 500.0\\\\\n",
       " & stored_{6,4} = 500.0\\\\\n",
       " & stored_{6,5} = 500.0\\\\\n",
       " & -produce_{1} + used_{1,1} + used_{1,2} + used_{1,3} + used_{1,4} + used_{1,5} = 0.0\\\\\n",
       " & -produce_{2} + used_{2,1} + used_{2,2} + used_{2,3} + used_{2,4} + used_{2,5} = 0.0\\\\\n",
       " & -produce_{3} + used_{3,1} + used_{3,2} + used_{3,3} + used_{3,4} + used_{3,5} = 0.0\\\\\n",
       " & -produce_{4} + used_{4,1} + used_{4,2} + used_{4,3} + used_{4,4} + used_{4,5} = 0.0\\\\\n",
       " & -produce_{5} + used_{5,1} + used_{5,2} + used_{5,3} + used_{5,4} + used_{5,5} = 0.0\\\\\n",
       " & -produce_{6} + used_{6,1} + used_{6,2} + used_{6,3} + used_{6,4} + used_{6,5} = 0.0\\\\\n",
       " & used_{1,1} + used_{1,2} \\leq 200.0\\\\\n",
       " & used_{2,1} + used_{2,2} \\leq 200.0\\\\\n",
       " & used_{3,1} + used_{3,2} \\leq 200.0\\\\\n",
       " & used_{4,1} + used_{4,2} \\leq 200.0\\\\\n",
       " & used_{5,1} + used_{5,2} \\leq 200.0\\\\\n",
       " & used_{6,1} + used_{6,2} \\leq 200.0\\\\\n",
       " & used_{1,3} + used_{1,4} + used_{1,5} \\leq 250.0\\\\\n",
       " & used_{2,3} + used_{2,4} + used_{2,5} \\leq 250.0\\\\\n",
       " & used_{3,3} + used_{3,4} + used_{3,5} \\leq 250.0\\\\\n",
       " & used_{4,3} + used_{4,4} + used_{4,5} \\leq 250.0\\\\\n",
       " & used_{5,3} + used_{5,4} + used_{5,5} \\leq 250.0\\\\\n",
       " & used_{6,3} + used_{6,4} + used_{6,5} \\leq 250.0\\\\\n",
       " & -6 produce_{1} + 8.8 used_{1,1} + 6.1 used_{1,2} + 2 used_{1,3} + 4.2 used_{1,4} + 5 used_{1,5} \\leq 0.0\\\\\n",
       " & 3 produce_{1} - 8.8 used_{1,1} - 6.1 used_{1,2} - 2 used_{1,3} - 4.2 used_{1,4} - 5 used_{1,5} \\leq 0.0\\\\\n",
       " & -6 produce_{2} + 8.8 used_{2,1} + 6.1 used_{2,2} + 2 used_{2,3} + 4.2 used_{2,4} + 5 used_{2,5} \\leq 0.0\\\\\n",
       " & 3 produce_{2} - 8.8 used_{2,1} - 6.1 used_{2,2} - 2 used_{2,3} - 4.2 used_{2,4} - 5 used_{2,5} \\leq 0.0\\\\\n",
       " & -6 produce_{3} + 8.8 used_{3,1} + 6.1 used_{3,2} + 2 used_{3,3} + 4.2 used_{3,4} + 5 used_{3,5} \\leq 0.0\\\\\n",
       " & 3 produce_{3} - 8.8 used_{3,1} - 6.1 used_{3,2} - 2 used_{3,3} - 4.2 used_{3,4} - 5 used_{3,5} \\leq 0.0\\\\\n",
       " & -6 produce_{4} + 8.8 used_{4,1} + 6.1 used_{4,2} + 2 used_{4,3} + 4.2 used_{4,4} + 5 used_{4,5} \\leq 0.0\\\\\n",
       " & 3 produce_{4} - 8.8 used_{4,1} - 6.1 used_{4,2} - 2 used_{4,3} - 4.2 used_{4,4} - 5 used_{4,5} \\leq 0.0\\\\\n",
       " & -6 produce_{5} + 8.8 used_{5,1} + 6.1 used_{5,2} + 2 used_{5,3} + 4.2 used_{5,4} + 5 used_{5,5} \\leq 0.0\\\\\n",
       " & 3 produce_{5} - 8.8 used_{5,1} - 6.1 used_{5,2} - 2 used_{5,3} - 4.2 used_{5,4} - 5 used_{5,5} \\leq 0.0\\\\\n",
       " & -6 produce_{6} + 8.8 used_{6,1} + 6.1 used_{6,2} + 2 used_{6,3} + 4.2 used_{6,4} + 5 used_{6,5} \\leq 0.0\\\\\n",
       " & 3 produce_{6} - 8.8 used_{6,1} - 6.1 used_{6,2} - 2 used_{6,3} - 4.2 used_{6,4} - 5 used_{6,5} \\leq 0.0\\\\\n",
       " & produce_{1} \\geq 0.0\\\\\n",
       " & produce_{2} \\geq 0.0\\\\\n",
       " & produce_{3} \\geq 0.0\\\\\n",
       " & produce_{4} \\geq 0.0\\\\\n",
       " & produce_{5} \\geq 0.0\\\\\n",
       " & produce_{6} \\geq 0.0\\\\\n",
       " & bought_{1,1} \\geq 0.0\\\\\n",
       " & bought_{2,1} \\geq 0.0\\\\\n",
       " & bought_{3,1} \\geq 0.0\\\\\n",
       " & bought_{4,1} \\geq 0.0\\\\\n",
       " & bought_{5,1} \\geq 0.0\\\\\n",
       " & bought_{6,1} \\geq 0.0\\\\\n",
       " & bought_{1,2} \\geq 0.0\\\\\n",
       " & bought_{2,2} \\geq 0.0\\\\\n",
       " & bought_{3,2} \\geq 0.0\\\\\n",
       " & bought_{4,2} \\geq 0.0\\\\\n",
       " & bought_{5,2} \\geq 0.0\\\\\n",
       " & bought_{6,2} \\geq 0.0\\\\\n",
       " & bought_{1,3} \\geq 0.0\\\\\n",
       " & bought_{2,3} \\geq 0.0\\\\\n",
       " & bought_{3,3} \\geq 0.0\\\\\n",
       " & bought_{4,3} \\geq 0.0\\\\\n",
       " & bought_{5,3} \\geq 0.0\\\\\n",
       " & bought_{6,3} \\geq 0.0\\\\\n",
       " & bought_{1,4} \\geq 0.0\\\\\n",
       " & bought_{2,4} \\geq 0.0\\\\\n",
       " & bought_{3,4} \\geq 0.0\\\\\n",
       " & bought_{4,4} \\geq 0.0\\\\\n",
       " & bought_{5,4} \\geq 0.0\\\\\n",
       " & bought_{6,4} \\geq 0.0\\\\\n",
       " & bought_{1,5} \\geq 0.0\\\\\n",
       " & bought_{2,5} \\geq 0.0\\\\\n",
       " & bought_{3,5} \\geq 0.0\\\\\n",
       " & bought_{4,5} \\geq 0.0\\\\\n",
       " & bought_{5,5} \\geq 0.0\\\\\n",
       " & bought_{6,5} \\geq 0.0\\\\\n",
       " & used_{1,1} \\geq 0.0\\\\\n",
       " & used_{2,1} \\geq 0.0\\\\\n",
       " & used_{3,1} \\geq 0.0\\\\\n",
       " & used_{4,1} \\geq 0.0\\\\\n",
       " & used_{5,1} \\geq 0.0\\\\\n",
       " & used_{6,1} \\geq 0.0\\\\\n",
       " & used_{1,2} \\geq 0.0\\\\\n",
       " & used_{2,2} \\geq 0.0\\\\\n",
       " & used_{3,2} \\geq 0.0\\\\\n",
       " & used_{4,2} \\geq 0.0\\\\\n",
       " & used_{5,2} \\geq 0.0\\\\\n",
       " & used_{6,2} \\geq 0.0\\\\\n",
       " & used_{1,3} \\geq 0.0\\\\\n",
       " & used_{2,3} \\geq 0.0\\\\\n",
       " & used_{3,3} \\geq 0.0\\\\\n",
       " & used_{4,3} \\geq 0.0\\\\\n",
       " & used_{5,3} \\geq 0.0\\\\\n",
       " & used_{6,3} \\geq 0.0\\\\\n",
       " & used_{1,4} \\geq 0.0\\\\\n",
       " & used_{2,4} \\geq 0.0\\\\\n",
       " & used_{3,4} \\geq 0.0\\\\\n",
       " & used_{4,4} \\geq 0.0\\\\\n",
       " & used_{5,4} \\geq 0.0\\\\\n",
       " & used_{6,4} \\geq 0.0\\\\\n",
       " & used_{1,5} \\geq 0.0\\\\\n",
       " & used_{2,5} \\geq 0.0\\\\\n",
       " & used_{3,5} \\geq 0.0\\\\\n",
       " & used_{4,5} \\geq 0.0\\\\\n",
       " & used_{5,5} \\geq 0.0\\\\\n",
       " & used_{6,5} \\geq 0.0\\\\\n",
       " & stored_{1,1} \\geq 0.0\\\\\n",
       " & stored_{2,1} \\geq 0.0\\\\\n",
       " & stored_{3,1} \\geq 0.0\\\\\n",
       " & stored_{4,1} \\geq 0.0\\\\\n",
       " & stored_{5,1} \\geq 0.0\\\\\n",
       " & stored_{6,1} \\geq 0.0\\\\\n",
       " & stored_{1,2} \\geq 0.0\\\\\n",
       " & stored_{2,2} \\geq 0.0\\\\\n",
       " & stored_{3,2} \\geq 0.0\\\\\n",
       " & stored_{4,2} \\geq 0.0\\\\\n",
       " & stored_{5,2} \\geq 0.0\\\\\n",
       " & stored_{6,2} \\geq 0.0\\\\\n",
       " & stored_{1,3} \\geq 0.0\\\\\n",
       " & stored_{2,3} \\geq 0.0\\\\\n",
       " & stored_{3,3} \\geq 0.0\\\\\n",
       " & stored_{4,3} \\geq 0.0\\\\\n",
       " & stored_{5,3} \\geq 0.0\\\\\n",
       " & stored_{6,3} \\geq 0.0\\\\\n",
       " & stored_{1,4} \\geq 0.0\\\\\n",
       " & stored_{2,4} \\geq 0.0\\\\\n",
       " & stored_{3,4} \\geq 0.0\\\\\n",
       " & stored_{4,4} \\geq 0.0\\\\\n",
       " & stored_{5,4} \\geq 0.0\\\\\n",
       " & stored_{6,4} \\geq 0.0\\\\\n",
       " & stored_{1,5} \\geq 0.0\\\\\n",
       " & stored_{2,5} \\geq 0.0\\\\\n",
       " & stored_{3,5} \\geq 0.0\\\\\n",
       " & stored_{4,5} \\geq 0.0\\\\\n",
       " & stored_{5,5} \\geq 0.0\\\\\n",
       " & stored_{6,5} \\geq 0.0\\\\\n",
       "\\end{aligned} $$"
      ]
     },
     "metadata": {},
     "output_type": "display_data"
    }
   ],
   "source": [
    "print(model)"
   ]
  },
  {
   "cell_type": "code",
   "execution_count": 134,
   "id": "cba65b7d-ef02-4b84-a57a-023deb505c52",
   "metadata": {},
   "outputs": [
    {
     "name": "stdout",
     "output_type": "stream",
     "text": [
      "Running HiGHS 1.4.0 [date: 1970-01-01, git hash: bcf6c0b22]\n",
      "Copyright (c) 2022 ERGO-Code under MIT licence terms\n",
      "Presolving model\n",
      "55 rows, 81 cols, 228 nonzeros\n",
      "44 rows, 70 cols, 165 nonzeros\n",
      "34 rows, 50 cols, 125 nonzeros\n",
      "29 rows, 40 cols, 105 nonzeros\n",
      "24 rows, 30 cols, 90 nonzeros\n",
      "Presolve : Reductions: rows 24(-41); columns 30(-66); elements 90(-168)\n",
      "Solving the presolved LP\n",
      "Using EKK dual simplex solver - serial\n",
      "  Iteration        Objective     Infeasibilities num(sum)\n",
      "          0    -7.8994068588e+02 Ph1: 24(70.25); Du: 29(789.941) 0s\n",
      "         31    -1.0714814815e+05 Pr: 0(0) 0s\n",
      "Solving the original LP from the solution after postsolve\n",
      "Model   status      : Optimal\n",
      "Simplex   iterations: 31\n",
      "Objective value     :  1.0714814815e+05\n",
      "HiGHS run time      :          0.00\n"
     ]
    }
   ],
   "source": [
    "optimize!(model)"
   ]
  },
  {
   "cell_type": "code",
   "execution_count": 135,
   "id": "3af969bd-034d-43ef-a5dc-ed7a0dadde91",
   "metadata": {},
   "outputs": [
    {
     "data": {
      "text/plain": [
       "107148.14814814816"
      ]
     },
     "execution_count": 135,
     "metadata": {},
     "output_type": "execute_result"
    }
   ],
   "source": [
    "objective_value(model)"
   ]
  },
  {
   "cell_type": "code",
   "execution_count": null,
   "id": "3ec74bbe-6166-4ebf-9542-4ce102a3beae",
   "metadata": {},
   "outputs": [],
   "source": []
  }
 ],
 "metadata": {
  "kernelspec": {
   "display_name": "Julia 1.8.3",
   "language": "julia",
   "name": "julia-1.8"
  },
  "language_info": {
   "file_extension": ".jl",
   "mimetype": "application/julia",
   "name": "julia",
   "version": "1.8.3"
  }
 },
 "nbformat": 4,
 "nbformat_minor": 5
}
